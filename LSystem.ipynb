{
  "nbformat": 4,
  "nbformat_minor": 0,
  "metadata": {
    "colab": {
      "provenance": [],
      "authorship_tag": "ABX9TyMW5JnDk/b7Xu5F2gw0Z9SE",
      "include_colab_link": true
    },
    "kernelspec": {
      "name": "python3",
      "display_name": "Python 3"
    },
    "language_info": {
      "name": "python"
    }
  },
  "cells": [
    {
      "cell_type": "markdown",
      "metadata": {
        "id": "view-in-github",
        "colab_type": "text"
      },
      "source": [
        "<a href=\"https://colab.research.google.com/github/MichaelTj02/Tjokrowardojo_Michael_rulebased_system/blob/main/LSystem.ipynb\" target=\"_parent\"><img src=\"https://colab.research.google.com/assets/colab-badge.svg\" alt=\"Open In Colab\"/></a>"
      ]
    },
    {
      "cell_type": "markdown",
      "source": [
        "# `Imports and Draw Functions`"
      ],
      "metadata": {
        "id": "vE2kpF7nQVwn"
      }
    },
    {
      "cell_type": "markdown",
      "source": [
        "L Systems"
      ],
      "metadata": {
        "id": "d-zHb7QY7RgO"
      }
    },
    {
      "cell_type": "code",
      "execution_count": 1,
      "metadata": {
        "id": "MFMESiVF63fQ"
      },
      "outputs": [],
      "source": [
        "import ColabTurtle.Turtle as t\n",
        "from IPython.display import clear_output"
      ]
    },
    {
      "cell_type": "markdown",
      "source": [
        "Basic L-Systems Implementation"
      ],
      "metadata": {
        "id": "N1y9O0G4QNbl"
      }
    },
    {
      "cell_type": "code",
      "source": [
        "def create_l_system(iterations, axiom, rules):\n",
        "    \"\"\"Generate L-System instructions based on axiom and rules.\"\"\"\n",
        "    result = axiom\n",
        "    for _ in range(iterations):\n",
        "        new_string = \"\"\n",
        "        for char in result:\n",
        "            new_string += rules.get(char, char)\n",
        "        result = new_string\n",
        "    return result\n",
        "\n",
        "def draw_l_system(instructions, angle, distance, colors=None, thickness=1):\n",
        "    \"\"\"Draw the L-System using turtle graphics.\n",
        "\n",
        "    Parameters:\n",
        "    - instructions: string of L-System commands\n",
        "    - angle: turning angle in degrees\n",
        "    - distance: forward movement distance\n",
        "    \"\"\"\n",
        "    stack = []\n",
        "\n",
        "    t.width(thickness)  # Set initial line thickness\n",
        "\n",
        "    if colours is None:\n",
        "        colours = [\"black\"]  # Default colour\n",
        "\n",
        "    colour_index = 0  # To cycle through colours\n",
        "\n",
        "    for cmd in instructions:\n",
        "        if cmd == 'F':  # Move forward and draw\n",
        "            t.pencolor(colors[color_index % len(colors)])  # Cycle through colours\n",
        "            t.width(thickness)\n",
        "            t.forward(distance)\n",
        "            color_index += 1  # Change colour index\n",
        "        elif cmd == 'f':  # Move forward without drawing\n",
        "            t.penup()\n",
        "            t.forward(distance)\n",
        "            t.pendown()\n",
        "        elif cmd == '+':  # Turn right\n",
        "            t.right(angle)\n",
        "        elif cmd == '-':  # Turn left\n",
        "            t.left(angle)\n",
        "        elif cmd == '[':  # Save current state\n",
        "            stack.append((t.position(), t.heading()))\n",
        "            thickness *= 0.8\n",
        "        elif cmd == ']':  # Restore previous state\n",
        "            position, heading, thickness = stack.pop()\n",
        "            t.penup()\n",
        "            t.goto(position)\n",
        "            t.setheading(heading)\n",
        "            t.pendown()\n",
        "            t.width(thickness)\n",
        "\n",
        "def setup_turtle():\n",
        "        t.initializeTurtle()\n",
        "        t.hideturtle()\n",
        "        t.speed(13)  # Fastest speed\n",
        "        t.penup()\n",
        "        t.goto(t.window_width() // 2, t.window_height() - 50)  # Start position\n",
        "        t.pendown()\n"
      ],
      "metadata": {
        "id": "TQ3c8UAMJiXX"
      },
      "execution_count": 2,
      "outputs": []
    },
    {
      "cell_type": "markdown",
      "source": [
        "# L-Systems"
      ],
      "metadata": {
        "id": "k5_DFzkaQbPx"
      }
    },
    {
      "cell_type": "code",
      "source": [
        "import random\n",
        "\n",
        "def generate_mood_based_l_system(mood):\n",
        "    \"\"\"Generate an L-System based on a given mood with randomized rules.\"\"\"\n",
        "\n",
        "    # Mood-based rules\n",
        "    mood_rules = {\n",
        "        \"calm\": [\"F+F-F-F+F\", \"F-F++F+F\", \"F[+F]F[-F]F\"],\n",
        "        \"energetic\": [\"F+F-F+F-F\", \"F[+F][-F]F\", \"F[+F]F[-F]F\"],\n",
        "        \"chaotic\": [\"FF+[+F-F-F]-[-F+F+F]\", \"F[+F]F[-F]F\", \"F++F--F++F\"],\n",
        "        \"happy\": [\"F+F-F+F\", \"F-F++F+F\", \"F[+F][-F]F\"],\n",
        "        \"sad\": [\"F[+F]F[-F]F\", \"FF+[+F-F-F]-[-F+F+F]\", \"F++F--F++F\"],\n",
        "    }\n",
        "\n",
        "    # Colour palettes for each mood\n",
        "    mood_colors = {\n",
        "        \"calm\": [\"blue\", \"cyan\", \"lightblue\"],\n",
        "        \"energetic\": [\"red\", \"orange\", \"yellow\"],\n",
        "        \"chaotic\": [\"black\", \"darkred\", \"purple\"],\n",
        "        \"happy\": [\"pink\", \"yellow\", \"lightgreen\"],\n",
        "        \"sad\": [\"darkblue\", \"gray\", \"navy\"],\n",
        "    }\n",
        "\n",
        "    # Select randomized parameters based on mood\n",
        "    axiom = \"F\"\n",
        "    rules = {\"F\": random.choice(mood_rules.get(mood, [\"F+F-F-F+F\"]))}  # Default to Koch curve if undefined\n",
        "    iterations = random.randint(3, 6)\n",
        "    angle = random.choice(mood_angles.get(mood, [30, 45, 60]))  # Default to common angles\n",
        "    distance = random.randint(4, 10)\n",
        "    colors = mood_colors.get(mood, [\"black\", \"gray\"])  # Default grayscale\n",
        "    thickness = random.choice(mood_thickness.get(mood, [2]))  # Default thickness\n",
        "\n",
        "    return {\n",
        "        \"axiom\": axiom,\n",
        "        \"rules\": rules,\n",
        "        \"iterations\": iterations,\n",
        "        \"angle\": angle,\n",
        "        \"distance\": distance,\n",
        "        \"colors\": colors,\n",
        "        \"thickness\": thickness\n",
        "    }"
      ],
      "metadata": {
        "id": "XEa2MmTHSEMz"
      },
      "execution_count": 3,
      "outputs": []
    },
    {
      "cell_type": "code",
      "source": [
        "# Get user input\n",
        "mood = input(\"Enter a mood (calm, energetic, chaotic, happy, sad): \").strip().lower()\n",
        "angle = int(input(\"Enter the turning angle (e.g., 30, 45, 60): \"))\n",
        "iterations = int(input(\"Enter the number of iterations (e.g., 3, 4, 5): \"))\n",
        "\n",
        "# Generate L-System based on mood + user-defined angle & iterations\n",
        "params = generate_mood_based_l_system(mood, angle, iterations)\n",
        "\n",
        "# Draw it\n",
        "setup_turtle()\n",
        "t.pensize(params[\"thickness\"])\n",
        "instructions = create_l_system(params[\"iterations\"], params[\"axiom\"], params[\"rules\"])\n",
        "draw_l_system(\n",
        "    instructions,\n",
        "    params[\"angle\"],\n",
        "    params[\"distance\"],\n",
        "    colors=params[\"colors\"],\n",
        "    thickness=params[\"thickness\"]\n",
        ")\n",
        "\n",
        "print(f\"Generated {mood}-based L-System with rules: {params['rules']}, angle: {angle}, iterations: {iterations}\")\n"
      ],
      "metadata": {
        "colab": {
          "base_uri": "https://localhost:8080/",
          "height": 269
        },
        "id": "DEhq_DcorTxc",
        "outputId": "c97fd6ca-cf43-4fb7-b8f3-99d023f1e9f1"
      },
      "execution_count": 4,
      "outputs": [
        {
          "name": "stdout",
          "output_type": "stream",
          "text": [
            "Enter a mood (calm, energetic, chaotic, happy, sad): happy\n",
            "Enter the turning angle (e.g., 30, 45, 60): 45\n",
            "Enter the number of iterations (e.g., 3, 4, 5): 5\n"
          ]
        },
        {
          "output_type": "error",
          "ename": "TypeError",
          "evalue": "generate_mood_based_l_system() takes 1 positional argument but 3 were given",
          "traceback": [
            "\u001b[0;31m---------------------------------------------------------------------------\u001b[0m",
            "\u001b[0;31mTypeError\u001b[0m                                 Traceback (most recent call last)",
            "Cell \u001b[0;32mIn[4], line 7\u001b[0m\n\u001b[1;32m      4\u001b[0m iterations \u001b[38;5;241m=\u001b[39m \u001b[38;5;28mint\u001b[39m(\u001b[38;5;28minput\u001b[39m(\u001b[38;5;124m\"\u001b[39m\u001b[38;5;124mEnter the number of iterations (e.g., 3, 4, 5): \u001b[39m\u001b[38;5;124m\"\u001b[39m))\n\u001b[1;32m      6\u001b[0m \u001b[38;5;66;03m# Generate L-System based on mood + user-defined angle & iterations\u001b[39;00m\n\u001b[0;32m----> 7\u001b[0m params \u001b[38;5;241m=\u001b[39m generate_mood_based_l_system(mood, angle, iterations)\n\u001b[1;32m      9\u001b[0m \u001b[38;5;66;03m# Draw it\u001b[39;00m\n\u001b[1;32m     10\u001b[0m setup_turtle()\n",
            "\u001b[0;31mTypeError\u001b[0m: generate_mood_based_l_system() takes 1 positional argument but 3 were given"
          ]
        }
      ]
    }
  ]
}