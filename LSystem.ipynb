{
  "nbformat": 4,
  "nbformat_minor": 0,
  "metadata": {
    "colab": {
      "provenance": [],
      "authorship_tag": "ABX9TyNY4bWgY0m/ssPWDiuzluay",
      "include_colab_link": true
    },
    "kernelspec": {
      "name": "python3",
      "display_name": "Python 3"
    },
    "language_info": {
      "name": "python"
    }
  },
  "cells": [
    {
      "cell_type": "markdown",
      "metadata": {
        "id": "view-in-github",
        "colab_type": "text"
      },
      "source": [
        "<a href=\"https://colab.research.google.com/github/MichaelTj02/Tjokrowardojo_Michael_rulebased_system/blob/main/LSystem.ipynb\" target=\"_parent\"><img src=\"https://colab.research.google.com/assets/colab-badge.svg\" alt=\"Open In Colab\"/></a>"
      ]
    },
    {
      "cell_type": "markdown",
      "source": [
        "# `Imports and Draw Functions`"
      ],
      "metadata": {
        "id": "vE2kpF7nQVwn"
      }
    },
    {
      "cell_type": "markdown",
      "source": [
        "L Systems"
      ],
      "metadata": {
        "id": "d-zHb7QY7RgO"
      }
    },
    {
      "cell_type": "code",
      "execution_count": 23,
      "metadata": {
        "id": "MFMESiVF63fQ"
      },
      "outputs": [],
      "source": [
        "import ColabTurtle.Turtle as t\n",
        "from IPython.display import clear_output"
      ]
    },
    {
      "cell_type": "markdown",
      "source": [
        "Basic L-Systems Implementation"
      ],
      "metadata": {
        "id": "N1y9O0G4QNbl"
      }
    },
    {
      "cell_type": "code",
      "source": [
        "def create_l_system(iterations, axiom, rules):\n",
        "    \"\"\"Generate L-System instructions based on axiom and rules.\"\"\"\n",
        "    result = axiom\n",
        "    for _ in range(iterations):\n",
        "        new_string = \"\"\n",
        "        for char in result:\n",
        "            new_string += rules.get(char, char)\n",
        "        result = new_string\n",
        "    return result\n",
        "\n",
        "def draw_l_system(instructions, angle, distance, colors=None, thickness=1):\n",
        "    \"\"\"Draw the L-System using turtle graphics with color and thickness variations.\"\"\"\n",
        "    stack = []\n",
        "    t.width(thickness)  # Set initial line thickness\n",
        "\n",
        "    if colors is None:\n",
        "        colors = [\"black\"]\n",
        "\n",
        "    color_index = 0  # Cycle through colors\n",
        "\n",
        "    for cmd in instructions:\n",
        "        if cmd == 'F':  # Move forward and draw\n",
        "            t.pencolor(colors[color_index % len(colors)])  # ✅ Changed from \"colours\" to \"colors\"\n",
        "            t.width(thickness)\n",
        "            t.forward(distance)\n",
        "            color_index += 1  # Change color dynamically\n",
        "        elif cmd == 'f':  # Move forward without drawing\n",
        "            t.penup()\n",
        "            t.forward(distance)\n",
        "            t.pendown()\n",
        "        elif cmd == '+':  # Turn right\n",
        "            t.right(angle)\n",
        "        elif cmd == '-':  # Turn left\n",
        "            t.left(angle)\n",
        "        elif cmd == '[':  # Save state\n",
        "            stack.append((t.position(), t.heading(), thickness))\n",
        "            thickness = max(1, int(thickness * 0.8))  # ✅ Ensure thickness remains an integer\n",
        "        elif cmd == ']':  # Restore previous state\n",
        "            position, heading, thickness = stack.pop()\n",
        "            t.penup()\n",
        "            t.goto(position)\n",
        "            t.setheading(heading)\n",
        "            t.pendown()\n",
        "            t.width(thickness)\n",
        "\n",
        "\n",
        "def setup_turtle():\n",
        "        t.initializeTurtle()\n",
        "        t.hideturtle()\n",
        "        t.speed(13)  # Fastest speed\n",
        "        t.penup()\n",
        "        t.goto(t.window_width() // 2, t.window_height() - 50)  # Start position\n",
        "        t.pendown()\n"
      ],
      "metadata": {
        "id": "TQ3c8UAMJiXX"
      },
      "execution_count": 24,
      "outputs": []
    },
    {
      "cell_type": "markdown",
      "source": [
        "# L-Systems"
      ],
      "metadata": {
        "id": "k5_DFzkaQbPx"
      }
    },
    {
      "cell_type": "code",
      "source": [
        "import random\n",
        "\n",
        "def generate_mood_based_l_system(mood, user_angle, user_iterations):\n",
        "    \"\"\"Generate an L-System based on a given mood, with user-defined angle & iterations.\"\"\"\n",
        "\n",
        "    # Define mood-based rule tendencies\n",
        "    mood_rules = {\n",
        "        \"calm\": [\"F+F-F-F+F\", \"F-F++F+F\", \"F[+F]F[-F]F\"],\n",
        "        \"energetic\": [\"F+F-F+F-F\", \"F[+F][-F]F\", \"F[+F]F[-F]F\"],\n",
        "        \"chaotic\": [\"FF+[+F-F-F]-[-F+F+F]\", \"F[+F]F[-F]F\", \"F++F--F++F\"],\n",
        "        \"happy\": [\"F+F-F+F\", \"F-F++F+F\", \"F[+F][-F]F\"],\n",
        "        \"sad\": [\"F[+F]F[-F]F\", \"FF+[+F-F-F]-[-F+F+F]\", \"F++F--F++F\"],\n",
        "    }\n",
        "\n",
        "    # Define color palettes per mood\n",
        "    mood_colors = {  # Fixed dictionary key name\n",
        "        \"calm\": [\"blue\", \"cyan\", \"lightblue\"],\n",
        "        \"energetic\": [\"red\", \"orange\", \"yellow\"],\n",
        "        \"chaotic\": [\"black\", \"darkred\", \"purple\"],\n",
        "        \"happy\": [\"pink\", \"yellow\", \"lightgreen\"],\n",
        "        \"sad\": [\"darkblue\", \"gray\", \"navy\"],\n",
        "    }\n",
        "\n",
        "    # Define thickness tendencies per mood\n",
        "    mood_thickness = {\n",
        "        \"calm\": [1, 2],\n",
        "        \"energetic\": [3, 5],\n",
        "        \"chaotic\": [4, 6],\n",
        "        \"happy\": [2, 3],\n",
        "        \"sad\": [1, 2],\n",
        "    }\n",
        "\n",
        "    # Select randomized parameters based on mood\n",
        "    axiom = \"F\"\n",
        "    rules = {\"F\": random.choice(mood_rules.get(mood, [\"F+F-F-F+F\"]))}  # Default rule if undefined\n",
        "    angle = user_angle  # Use user-defined angle\n",
        "    iterations = user_iterations  # Use user-defined iterations\n",
        "    distance = random.randint(4, 10)  # Step size (randomized)\n",
        "    colors = mood_colors.get(mood, [\"black\", \"gray\"])  # ✅ Changed from \"colours\" to \"colors\"\n",
        "    thickness = int(random.choice(mood_thickness.get(mood, [2])))  # ✅ Ensure integer thickness\n",
        "\n",
        "    return {\n",
        "        \"axiom\": axiom,\n",
        "        \"rules\": rules,\n",
        "        \"iterations\": iterations,\n",
        "        \"angle\": angle,\n",
        "        \"distance\": distance,\n",
        "        \"colors\": colors,  # ✅ Fixed dictionary key\n",
        "        \"thickness\": thickness  # ✅ Ensure integer\n",
        "    }\n"
      ],
      "metadata": {
        "id": "XEa2MmTHSEMz"
      },
      "execution_count": 25,
      "outputs": []
    },
    {
      "cell_type": "code",
      "source": [
        "# Get user input\n",
        "mood = input(\"Enter a mood (calm, energetic, chaotic, happy, sad): \").strip().lower()\n",
        "angle = int(input(\"Enter the turning angle (e.g., 30, 45, 60): \"))\n",
        "iterations = int(input(\"Enter the number of iterations (e.g., 3, 4, 5): \"))\n",
        "\n",
        "# Generate L-System based on mood + user-defined angle & iterations\n",
        "params = generate_mood_based_l_system(mood, angle, iterations)\n",
        "\n",
        "# Draw it\n",
        "setup_turtle()\n",
        "t.pensize(params[\"thickness\"])\n",
        "instructions = create_l_system(params[\"iterations\"], params[\"axiom\"], params[\"rules\"])\n",
        "draw_l_system(\n",
        "    instructions,\n",
        "    params[\"angle\"],\n",
        "    params[\"distance\"],\n",
        "    colors=params[\"colors\"],\n",
        "    thickness=params[\"thickness\"]\n",
        ")\n",
        "\n",
        "print(f\"Generated {mood}-based L-System with rules: {params['rules']}, angle: {angle}, iterations: {iterations}\")\n"
      ],
      "metadata": {
        "colab": {
          "base_uri": "https://localhost:8080/",
          "height": 592
        },
        "id": "DEhq_DcorTxc",
        "outputId": "3d684103-2254-425f-e621-577c9204b17b"
      },
      "execution_count": 26,
      "outputs": [
        {
          "name": "stdout",
          "output_type": "stream",
          "text": [
            "Enter a mood (calm, energetic, chaotic, happy, sad): calm\n",
            "Enter the turning angle (e.g., 30, 45, 60): 30\n",
            "Enter the number of iterations (e.g., 3, 4, 5): 3\n"
          ]
        },
        {
          "output_type": "display_data",
          "data": {
            "text/plain": [
              "<IPython.core.display.HTML object>"
            ],
            "text/html": [
              "\n",
              "      <svg width=\"800\" height=\"500\">\n",
              "        <rect width=\"100%\" height=\"100%\" fill=\"black\"/>\n",
              "        <line x1=\"400\" y1=\"450\" x2=\"400.0\" y2=\"440.0\" stroke-linecap=\"round\" style=\"stroke:blue;stroke-width:1\"/><line x1=\"400.0\" y1=\"440.0\" x2=\"405.0\" y2=\"431.34\" stroke-linecap=\"round\" style=\"stroke:cyan;stroke-width:1\"/><line x1=\"400.0\" y1=\"440.0\" x2=\"400.0\" y2=\"430.0\" stroke-linecap=\"round\" style=\"stroke:lightblue;stroke-width:1\"/><line x1=\"400.0\" y1=\"430.0\" x2=\"395.0\" y2=\"421.34\" stroke-linecap=\"round\" style=\"stroke:blue;stroke-width:1\"/><line x1=\"400.0\" y1=\"430.0\" x2=\"400.0\" y2=\"420.0\" stroke-linecap=\"round\" style=\"stroke:cyan;stroke-width:1\"/><line x1=\"400.0\" y1=\"420.0\" x2=\"405.0\" y2=\"411.34\" stroke-linecap=\"round\" style=\"stroke:lightblue;stroke-width:1\"/><line x1=\"405.0\" y1=\"411.34\" x2=\"413.66\" y2=\"406.34\" stroke-linecap=\"round\" style=\"stroke:blue;stroke-width:1\"/><line x1=\"405.0\" y1=\"411.34\" x2=\"410.0\" y2=\"402.68\" stroke-linecap=\"round\" style=\"stroke:cyan;stroke-width:1\"/><line x1=\"410.0\" y1=\"402.68\" x2=\"410.0\" y2=\"392.68\" stroke-linecap=\"round\" style=\"stroke:lightblue;stroke-width:1\"/><line x1=\"410.0\" y1=\"402.68\" x2=\"415.0\" y2=\"394.02\" stroke-linecap=\"round\" style=\"stroke:blue;stroke-width:1\"/><line x1=\"400.0\" y1=\"420.0\" x2=\"400.0\" y2=\"410.0\" stroke-linecap=\"round\" style=\"stroke:cyan;stroke-width:1\"/><line x1=\"400.0\" y1=\"410.0\" x2=\"405.0\" y2=\"401.34\" stroke-linecap=\"round\" style=\"stroke:lightblue;stroke-width:1\"/><line x1=\"400.0\" y1=\"410.0\" x2=\"400.0\" y2=\"400.0\" stroke-linecap=\"round\" style=\"stroke:blue;stroke-width:1\"/><line x1=\"400.0\" y1=\"400.0\" x2=\"395.0\" y2=\"391.34\" stroke-linecap=\"round\" style=\"stroke:cyan;stroke-width:1\"/><line x1=\"400.0\" y1=\"400.0\" x2=\"400.0\" y2=\"390.0\" stroke-linecap=\"round\" style=\"stroke:lightblue;stroke-width:1\"/><line x1=\"400.0\" y1=\"390.0\" x2=\"395.0\" y2=\"381.34\" stroke-linecap=\"round\" style=\"stroke:blue;stroke-width:1\"/><line x1=\"395.0\" y1=\"381.34\" x2=\"395.0\" y2=\"371.34\" stroke-linecap=\"round\" style=\"stroke:cyan;stroke-width:1\"/><line x1=\"395.0\" y1=\"381.34\" x2=\"390.0\" y2=\"372.68\" stroke-linecap=\"round\" style=\"stroke:lightblue;stroke-width:1\"/><line x1=\"390.0\" y1=\"372.68\" x2=\"381.34\" y2=\"367.68\" stroke-linecap=\"round\" style=\"stroke:blue;stroke-width:1\"/><line x1=\"390.0\" y1=\"372.68\" x2=\"385.0\" y2=\"364.02\" stroke-linecap=\"round\" style=\"stroke:cyan;stroke-width:1\"/><line x1=\"400.0\" y1=\"390.0\" x2=\"400.0\" y2=\"380.0\" stroke-linecap=\"round\" style=\"stroke:lightblue;stroke-width:1\"/><line x1=\"400.0\" y1=\"380.0\" x2=\"405.0\" y2=\"371.34\" stroke-linecap=\"round\" style=\"stroke:blue;stroke-width:1\"/><line x1=\"400.0\" y1=\"380.0\" x2=\"400.0\" y2=\"370.0\" stroke-linecap=\"round\" style=\"stroke:cyan;stroke-width:1\"/><line x1=\"400.0\" y1=\"370.0\" x2=\"395.0\" y2=\"361.34\" stroke-linecap=\"round\" style=\"stroke:lightblue;stroke-width:1\"/><line x1=\"400.0\" y1=\"370.0\" x2=\"400.0\" y2=\"360.0\" stroke-linecap=\"round\" style=\"stroke:blue;stroke-width:1\"/><line x1=\"400.0\" y1=\"360.0\" x2=\"405.0\" y2=\"351.34\" stroke-linecap=\"round\" style=\"stroke:cyan;stroke-width:1\"/><line x1=\"405.0\" y1=\"351.34\" x2=\"413.66\" y2=\"346.34\" stroke-linecap=\"round\" style=\"stroke:lightblue;stroke-width:1\"/><line x1=\"405.0\" y1=\"351.34\" x2=\"410.0\" y2=\"342.68\" stroke-linecap=\"round\" style=\"stroke:blue;stroke-width:1\"/><line x1=\"410.0\" y1=\"342.68\" x2=\"410.0\" y2=\"332.68\" stroke-linecap=\"round\" style=\"stroke:cyan;stroke-width:1\"/><line x1=\"410.0\" y1=\"342.68\" x2=\"415.0\" y2=\"334.02\" stroke-linecap=\"round\" style=\"stroke:lightblue;stroke-width:1\"/><line x1=\"415.0\" y1=\"334.02\" x2=\"423.66\" y2=\"329.02\" stroke-linecap=\"round\" style=\"stroke:blue;stroke-width:1\"/><line x1=\"423.66\" y1=\"329.02\" x2=\"433.66\" y2=\"329.02\" stroke-linecap=\"round\" style=\"stroke:cyan;stroke-width:1\"/><line x1=\"423.66\" y1=\"329.02\" x2=\"432.32\" y2=\"324.02\" stroke-linecap=\"round\" style=\"stroke:lightblue;stroke-width:1\"/><line x1=\"432.32\" y1=\"324.02\" x2=\"437.32\" y2=\"315.36\" stroke-linecap=\"round\" style=\"stroke:blue;stroke-width:1\"/><line x1=\"432.32\" y1=\"324.02\" x2=\"440.98\" y2=\"319.02\" stroke-linecap=\"round\" style=\"stroke:cyan;stroke-width:1\"/><line x1=\"415.0\" y1=\"334.02\" x2=\"420.0\" y2=\"325.36\" stroke-linecap=\"round\" style=\"stroke:lightblue;stroke-width:1\"/><line x1=\"420.0\" y1=\"325.36\" x2=\"428.66\" y2=\"320.36\" stroke-linecap=\"round\" style=\"stroke:blue;stroke-width:1\"/><line x1=\"420.0\" y1=\"325.36\" x2=\"425.0\" y2=\"316.7\" stroke-linecap=\"round\" style=\"stroke:cyan;stroke-width:1\"/><line x1=\"425.0\" y1=\"316.7\" x2=\"425.0\" y2=\"306.7\" stroke-linecap=\"round\" style=\"stroke:lightblue;stroke-width:1\"/><line x1=\"425.0\" y1=\"316.7\" x2=\"430.0\" y2=\"308.04\" stroke-linecap=\"round\" style=\"stroke:blue;stroke-width:1\"/><line x1=\"430.0\" y1=\"308.04\" x2=\"430.0\" y2=\"298.04\" stroke-linecap=\"round\" style=\"stroke:cyan;stroke-width:1\"/><line x1=\"430.0\" y1=\"298.04\" x2=\"435.0\" y2=\"289.38\" stroke-linecap=\"round\" style=\"stroke:lightblue;stroke-width:1\"/><line x1=\"430.0\" y1=\"298.04\" x2=\"430.0\" y2=\"288.04\" stroke-linecap=\"round\" style=\"stroke:blue;stroke-width:1\"/><line x1=\"430.0\" y1=\"288.04\" x2=\"425.0\" y2=\"279.38\" stroke-linecap=\"round\" style=\"stroke:cyan;stroke-width:1\"/><line x1=\"430.0\" y1=\"288.04\" x2=\"430.0\" y2=\"278.04\" stroke-linecap=\"round\" style=\"stroke:lightblue;stroke-width:1\"/><line x1=\"430.0\" y1=\"308.04\" x2=\"435.0\" y2=\"299.38\" stroke-linecap=\"round\" style=\"stroke:blue;stroke-width:1\"/><line x1=\"435.0\" y1=\"299.38\" x2=\"443.66\" y2=\"294.38\" stroke-linecap=\"round\" style=\"stroke:cyan;stroke-width:1\"/><line x1=\"435.0\" y1=\"299.38\" x2=\"440.0\" y2=\"290.72\" stroke-linecap=\"round\" style=\"stroke:lightblue;stroke-width:1\"/><line x1=\"440.0\" y1=\"290.72\" x2=\"440.0\" y2=\"280.72\" stroke-linecap=\"round\" style=\"stroke:blue;stroke-width:1\"/><line x1=\"440.0\" y1=\"290.72\" x2=\"445.0\" y2=\"282.06\" stroke-linecap=\"round\" style=\"stroke:cyan;stroke-width:1\"/><line x1=\"400.0\" y1=\"360.0\" x2=\"400.0\" y2=\"350.0\" stroke-linecap=\"round\" style=\"stroke:lightblue;stroke-width:1\"/><line x1=\"400.0\" y1=\"350.0\" x2=\"405.0\" y2=\"341.34\" stroke-linecap=\"round\" style=\"stroke:blue;stroke-width:1\"/><line x1=\"400.0\" y1=\"350.0\" x2=\"400.0\" y2=\"340.0\" stroke-linecap=\"round\" style=\"stroke:cyan;stroke-width:1\"/><line x1=\"400.0\" y1=\"340.0\" x2=\"395.0\" y2=\"331.34\" stroke-linecap=\"round\" style=\"stroke:lightblue;stroke-width:1\"/><line x1=\"400.0\" y1=\"340.0\" x2=\"400.0\" y2=\"330.0\" stroke-linecap=\"round\" style=\"stroke:blue;stroke-width:1\"/><line x1=\"400.0\" y1=\"330.0\" x2=\"405.0\" y2=\"321.34\" stroke-linecap=\"round\" style=\"stroke:cyan;stroke-width:1\"/><line x1=\"405.0\" y1=\"321.34\" x2=\"413.66\" y2=\"316.34\" stroke-linecap=\"round\" style=\"stroke:lightblue;stroke-width:1\"/><line x1=\"405.0\" y1=\"321.34\" x2=\"410.0\" y2=\"312.68\" stroke-linecap=\"round\" style=\"stroke:blue;stroke-width:1\"/><line x1=\"410.0\" y1=\"312.68\" x2=\"410.0\" y2=\"302.68\" stroke-linecap=\"round\" style=\"stroke:cyan;stroke-width:1\"/><line x1=\"410.0\" y1=\"312.68\" x2=\"415.0\" y2=\"304.02\" stroke-linecap=\"round\" style=\"stroke:lightblue;stroke-width:1\"/><line x1=\"400.0\" y1=\"330.0\" x2=\"400.0\" y2=\"320.0\" stroke-linecap=\"round\" style=\"stroke:blue;stroke-width:1\"/><line x1=\"400.0\" y1=\"320.0\" x2=\"405.0\" y2=\"311.34\" stroke-linecap=\"round\" style=\"stroke:cyan;stroke-width:1\"/><line x1=\"400.0\" y1=\"320.0\" x2=\"400.0\" y2=\"310.0\" stroke-linecap=\"round\" style=\"stroke:lightblue;stroke-width:1\"/><line x1=\"400.0\" y1=\"310.0\" x2=\"395.0\" y2=\"301.34\" stroke-linecap=\"round\" style=\"stroke:blue;stroke-width:1\"/><line x1=\"400.0\" y1=\"310.0\" x2=\"400.0\" y2=\"300.0\" stroke-linecap=\"round\" style=\"stroke:cyan;stroke-width:1\"/><line x1=\"400.0\" y1=\"300.0\" x2=\"395.0\" y2=\"291.34\" stroke-linecap=\"round\" style=\"stroke:lightblue;stroke-width:1\"/><line x1=\"395.0\" y1=\"291.34\" x2=\"395.0\" y2=\"281.34\" stroke-linecap=\"round\" style=\"stroke:blue;stroke-width:1\"/><line x1=\"395.0\" y1=\"291.34\" x2=\"390.0\" y2=\"282.68\" stroke-linecap=\"round\" style=\"stroke:cyan;stroke-width:1\"/><line x1=\"390.0\" y1=\"282.68\" x2=\"381.34\" y2=\"277.68\" stroke-linecap=\"round\" style=\"stroke:lightblue;stroke-width:1\"/><line x1=\"390.0\" y1=\"282.68\" x2=\"385.0\" y2=\"274.02\" stroke-linecap=\"round\" style=\"stroke:blue;stroke-width:1\"/><line x1=\"400.0\" y1=\"300.0\" x2=\"400.0\" y2=\"290.0\" stroke-linecap=\"round\" style=\"stroke:cyan;stroke-width:1\"/><line x1=\"400.0\" y1=\"290.0\" x2=\"405.0\" y2=\"281.34\" stroke-linecap=\"round\" style=\"stroke:lightblue;stroke-width:1\"/><line x1=\"400.0\" y1=\"290.0\" x2=\"400.0\" y2=\"280.0\" stroke-linecap=\"round\" style=\"stroke:blue;stroke-width:1\"/><line x1=\"400.0\" y1=\"280.0\" x2=\"395.0\" y2=\"271.34\" stroke-linecap=\"round\" style=\"stroke:cyan;stroke-width:1\"/><line x1=\"400.0\" y1=\"280.0\" x2=\"400.0\" y2=\"270.0\" stroke-linecap=\"round\" style=\"stroke:lightblue;stroke-width:1\"/><line x1=\"400.0\" y1=\"270.0\" x2=\"395.0\" y2=\"261.34\" stroke-linecap=\"round\" style=\"stroke:blue;stroke-width:1\"/><line x1=\"395.0\" y1=\"261.34\" x2=\"395.0\" y2=\"251.34\" stroke-linecap=\"round\" style=\"stroke:cyan;stroke-width:1\"/><line x1=\"395.0\" y1=\"261.34\" x2=\"390.0\" y2=\"252.68\" stroke-linecap=\"round\" style=\"stroke:lightblue;stroke-width:1\"/><line x1=\"390.0\" y1=\"252.68\" x2=\"381.34\" y2=\"247.68\" stroke-linecap=\"round\" style=\"stroke:blue;stroke-width:1\"/><line x1=\"390.0\" y1=\"252.68\" x2=\"385.0\" y2=\"244.02\" stroke-linecap=\"round\" style=\"stroke:cyan;stroke-width:1\"/><line x1=\"385.0\" y1=\"244.02\" x2=\"385.0\" y2=\"234.02\" stroke-linecap=\"round\" style=\"stroke:lightblue;stroke-width:1\"/><line x1=\"385.0\" y1=\"234.02\" x2=\"390.0\" y2=\"225.36\" stroke-linecap=\"round\" style=\"stroke:blue;stroke-width:1\"/><line x1=\"385.0\" y1=\"234.02\" x2=\"385.0\" y2=\"224.02\" stroke-linecap=\"round\" style=\"stroke:cyan;stroke-width:1\"/><line x1=\"385.0\" y1=\"224.02\" x2=\"380.0\" y2=\"215.36\" stroke-linecap=\"round\" style=\"stroke:lightblue;stroke-width:1\"/><line x1=\"385.0\" y1=\"224.02\" x2=\"385.0\" y2=\"214.02\" stroke-linecap=\"round\" style=\"stroke:blue;stroke-width:1\"/><line x1=\"385.0\" y1=\"244.02\" x2=\"380.0\" y2=\"235.36\" stroke-linecap=\"round\" style=\"stroke:cyan;stroke-width:1\"/><line x1=\"380.0\" y1=\"235.36\" x2=\"380.0\" y2=\"225.36\" stroke-linecap=\"round\" style=\"stroke:lightblue;stroke-width:1\"/><line x1=\"380.0\" y1=\"235.36\" x2=\"375.0\" y2=\"226.7\" stroke-linecap=\"round\" style=\"stroke:blue;stroke-width:1\"/><line x1=\"375.0\" y1=\"226.7\" x2=\"366.34\" y2=\"221.7\" stroke-linecap=\"round\" style=\"stroke:cyan;stroke-width:1\"/><line x1=\"375.0\" y1=\"226.7\" x2=\"370.0\" y2=\"218.04\" stroke-linecap=\"round\" style=\"stroke:lightblue;stroke-width:1\"/><line x1=\"370.0\" y1=\"218.04\" x2=\"361.34\" y2=\"213.04\" stroke-linecap=\"round\" style=\"stroke:blue;stroke-width:1\"/><line x1=\"361.34\" y1=\"213.04\" x2=\"356.34\" y2=\"204.38\" stroke-linecap=\"round\" style=\"stroke:cyan;stroke-width:1\"/><line x1=\"361.34\" y1=\"213.04\" x2=\"352.68\" y2=\"208.04\" stroke-linecap=\"round\" style=\"stroke:lightblue;stroke-width:1\"/><line x1=\"352.68\" y1=\"208.04\" x2=\"342.68\" y2=\"208.04\" stroke-linecap=\"round\" style=\"stroke:blue;stroke-width:1\"/><line x1=\"352.68\" y1=\"208.04\" x2=\"344.02\" y2=\"203.04\" stroke-linecap=\"round\" style=\"stroke:cyan;stroke-width:1\"/><line x1=\"370.0\" y1=\"218.04\" x2=\"365.0\" y2=\"209.38\" stroke-linecap=\"round\" style=\"stroke:lightblue;stroke-width:1\"/><line x1=\"365.0\" y1=\"209.38\" x2=\"365.0\" y2=\"199.38\" stroke-linecap=\"round\" style=\"stroke:blue;stroke-width:1\"/><line x1=\"365.0\" y1=\"209.38\" x2=\"360.0\" y2=\"200.72\" stroke-linecap=\"round\" style=\"stroke:cyan;stroke-width:1\"/><line x1=\"360.0\" y1=\"200.72\" x2=\"351.34\" y2=\"195.72\" stroke-linecap=\"round\" style=\"stroke:lightblue;stroke-width:1\"/><line x1=\"360.0\" y1=\"200.72\" x2=\"355.0\" y2=\"192.06\" stroke-linecap=\"round\" style=\"stroke:blue;stroke-width:1\"/><line x1=\"400.0\" y1=\"270.0\" x2=\"400.0\" y2=\"260.0\" stroke-linecap=\"round\" style=\"stroke:cyan;stroke-width:1\"/><line x1=\"400.0\" y1=\"260.0\" x2=\"405.0\" y2=\"251.34\" stroke-linecap=\"round\" style=\"stroke:lightblue;stroke-width:1\"/><line x1=\"400.0\" y1=\"260.0\" x2=\"400.0\" y2=\"250.0\" stroke-linecap=\"round\" style=\"stroke:blue;stroke-width:1\"/><line x1=\"400.0\" y1=\"250.0\" x2=\"395.0\" y2=\"241.34\" stroke-linecap=\"round\" style=\"stroke:cyan;stroke-width:1\"/><line x1=\"400.0\" y1=\"250.0\" x2=\"400.0\" y2=\"240.0\" stroke-linecap=\"round\" style=\"stroke:lightblue;stroke-width:1\"/><line x1=\"400.0\" y1=\"240.0\" x2=\"405.0\" y2=\"231.34\" stroke-linecap=\"round\" style=\"stroke:blue;stroke-width:1\"/><line x1=\"405.0\" y1=\"231.34\" x2=\"413.66\" y2=\"226.34\" stroke-linecap=\"round\" style=\"stroke:cyan;stroke-width:1\"/><line x1=\"405.0\" y1=\"231.34\" x2=\"410.0\" y2=\"222.68\" stroke-linecap=\"round\" style=\"stroke:lightblue;stroke-width:1\"/><line x1=\"410.0\" y1=\"222.68\" x2=\"410.0\" y2=\"212.68\" stroke-linecap=\"round\" style=\"stroke:blue;stroke-width:1\"/><line x1=\"410.0\" y1=\"222.68\" x2=\"415.0\" y2=\"214.02\" stroke-linecap=\"round\" style=\"stroke:cyan;stroke-width:1\"/><line x1=\"400.0\" y1=\"240.0\" x2=\"400.0\" y2=\"230.0\" stroke-linecap=\"round\" style=\"stroke:lightblue;stroke-width:1\"/><line x1=\"400.0\" y1=\"230.0\" x2=\"405.0\" y2=\"221.34\" stroke-linecap=\"round\" style=\"stroke:blue;stroke-width:1\"/><line x1=\"400.0\" y1=\"230.0\" x2=\"400.0\" y2=\"220.0\" stroke-linecap=\"round\" style=\"stroke:cyan;stroke-width:1\"/><line x1=\"400.0\" y1=\"220.0\" x2=\"395.0\" y2=\"211.34\" stroke-linecap=\"round\" style=\"stroke:lightblue;stroke-width:1\"/><line x1=\"400.0\" y1=\"220.0\" x2=\"400.0\" y2=\"210.0\" stroke-linecap=\"round\" style=\"stroke:blue;stroke-width:1\"/><line x1=\"400.0\" y1=\"210.0\" x2=\"395.0\" y2=\"201.34\" stroke-linecap=\"round\" style=\"stroke:cyan;stroke-width:1\"/><line x1=\"395.0\" y1=\"201.34\" x2=\"395.0\" y2=\"191.34\" stroke-linecap=\"round\" style=\"stroke:lightblue;stroke-width:1\"/><line x1=\"395.0\" y1=\"201.34\" x2=\"390.0\" y2=\"192.68\" stroke-linecap=\"round\" style=\"stroke:blue;stroke-width:1\"/><line x1=\"390.0\" y1=\"192.68\" x2=\"381.34\" y2=\"187.68\" stroke-linecap=\"round\" style=\"stroke:cyan;stroke-width:1\"/><line x1=\"390.0\" y1=\"192.68\" x2=\"385.0\" y2=\"184.02\" stroke-linecap=\"round\" style=\"stroke:lightblue;stroke-width:1\"/><line x1=\"400.0\" y1=\"210.0\" x2=\"400.0\" y2=\"200.0\" stroke-linecap=\"round\" style=\"stroke:blue;stroke-width:1\"/><line x1=\"400.0\" y1=\"200.0\" x2=\"405.0\" y2=\"191.34\" stroke-linecap=\"round\" style=\"stroke:cyan;stroke-width:1\"/><line x1=\"400.0\" y1=\"200.0\" x2=\"400.0\" y2=\"190.0\" stroke-linecap=\"round\" style=\"stroke:lightblue;stroke-width:1\"/><line x1=\"400.0\" y1=\"190.0\" x2=\"395.0\" y2=\"181.34\" stroke-linecap=\"round\" style=\"stroke:blue;stroke-width:1\"/><line x1=\"400.0\" y1=\"190.0\" x2=\"400.0\" y2=\"180.0\" stroke-linecap=\"round\" style=\"stroke:cyan;stroke-width:1\"/>\n",
              "        <g visibility=hidden transform=\"rotate(360,400.0,180.0) translate(382.0, 162.0)\">\n",
              "<path style=\" stroke:none;fill-rule:evenodd;fill:cyan;fill-opacity:1;\" d=\"M 18.214844 0.632812 C 16.109375 1.800781 15.011719 4.074219 15.074219 7.132812 L 15.085938 7.652344 L 14.785156 7.496094 C 13.476562 6.824219 11.957031 6.671875 10.40625 7.066406 C 8.46875 7.550781 6.515625 9.15625 4.394531 11.992188 C 3.0625 13.777344 2.679688 14.636719 3.042969 15.027344 L 3.15625 15.152344 L 3.519531 15.152344 C 4.238281 15.152344 4.828125 14.886719 8.1875 13.039062 C 9.386719 12.378906 10.371094 11.839844 10.378906 11.839844 C 10.386719 11.839844 10.355469 11.929688 10.304688 12.035156 C 9.832031 13.09375 9.257812 14.820312 8.96875 16.078125 C 7.914062 20.652344 8.617188 24.53125 11.070312 27.660156 C 11.351562 28.015625 11.363281 27.914062 10.972656 28.382812 C 8.925781 30.84375 7.945312 33.28125 8.238281 35.1875 C 8.289062 35.527344 8.28125 35.523438 8.917969 35.523438 C 10.941406 35.523438 13.074219 34.207031 15.136719 31.6875 C 15.359375 31.417969 15.328125 31.425781 15.5625 31.574219 C 16.292969 32.042969 18.023438 32.964844 18.175781 32.964844 C 18.335938 32.964844 19.941406 32.210938 20.828125 31.71875 C 20.996094 31.625 21.136719 31.554688 21.136719 31.558594 C 21.203125 31.664062 21.898438 32.414062 22.222656 32.730469 C 23.835938 34.300781 25.5625 35.132812 27.582031 35.300781 C 27.90625 35.328125 27.9375 35.308594 28.007812 34.984375 C 28.382812 33.242188 27.625 30.925781 25.863281 28.425781 L 25.542969 27.96875 L 25.699219 27.785156 C 28.945312 23.960938 29.132812 18.699219 26.257812 11.96875 L 26.207031 11.84375 L 27.945312 12.703125 C 31.53125 14.476562 32.316406 14.800781 33.03125 14.800781 C 33.976562 14.800781 33.78125 13.9375 32.472656 12.292969 C 28.519531 7.355469 25.394531 5.925781 21.921875 7.472656 L 21.558594 7.636719 L 21.578125 7.542969 C 21.699219 6.992188 21.761719 5.742188 21.699219 5.164062 C 21.496094 3.296875 20.664062 1.964844 19.003906 0.855469 C 18.480469 0.503906 18.457031 0.5 18.214844 0.632812\"/>\n",
              "</g>\n",
              "      </svg>\n",
              "    "
            ]
          },
          "metadata": {}
        },
        {
          "output_type": "stream",
          "name": "stdout",
          "text": [
            "Generated calm-based L-System with rules: {'F': 'F[+F]F[-F]F'}, angle: 30, iterations: 3\n"
          ]
        }
      ]
    }
  ]
}